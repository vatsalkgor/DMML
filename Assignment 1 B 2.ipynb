{
 "cells": [
  {
   "cell_type": "markdown",
   "metadata": {},
   "source": [
    "### This notebook answers assignment part B question 2"
   ]
  },
  {
   "cell_type": "code",
   "execution_count": 1,
   "metadata": {},
   "outputs": [],
   "source": [
    "import pandas as pd\n",
    "import numpy as np\n",
    "from sklearn.model_selection import train_test_split, cross_val_score\n",
    "from sklearn.neural_network import MLPClassifier\n",
    "from sklearn.metrics import plot_confusion_matrix\n",
    "from sklearn.metrics import accuracy_score,classification_report,confusion_matrix\n",
    "import matplotlib.pyplot as plt"
   ]
  },
  {
   "cell_type": "code",
   "execution_count": 2,
   "metadata": {},
   "outputs": [],
   "source": [
    "raw_data = pd.read_csv('pima-indians-diabetes1.csv')\n",
    "raw_data.columns = ['pregnant number','pgc','dbp','sft','insulin','bmi','dpf','age','class']"
   ]
  },
  {
   "cell_type": "code",
   "execution_count": 3,
   "metadata": {},
   "outputs": [
    {
     "name": "stdout",
     "output_type": "stream",
     "text": [
      "       pregnant number         pgc         dbp         sft     insulin  \\\n",
      "count       767.000000  767.000000  767.000000  767.000000  767.000000   \n",
      "mean          3.842243  120.859192   69.101695   20.517601   79.903520   \n",
      "std           3.370877   31.978468   19.368155   15.954059  115.283105   \n",
      "min           0.000000    0.000000    0.000000    0.000000    0.000000   \n",
      "25%           1.000000   99.000000   62.000000    0.000000    0.000000   \n",
      "50%           3.000000  117.000000   72.000000   23.000000   32.000000   \n",
      "75%           6.000000  140.000000   80.000000   32.000000  127.500000   \n",
      "max          17.000000  199.000000  122.000000   99.000000  846.000000   \n",
      "\n",
      "              bmi         dpf         age       class  \n",
      "count  767.000000  767.000000  767.000000  767.000000  \n",
      "mean    31.990482    0.471674   33.219035    0.348110  \n",
      "std      7.889091    0.331497   11.752296    0.476682  \n",
      "min      0.000000    0.078000   21.000000    0.000000  \n",
      "25%     27.300000    0.243500   24.000000    0.000000  \n",
      "50%     32.000000    0.371000   29.000000    0.000000  \n",
      "75%     36.600000    0.625000   41.000000    1.000000  \n",
      "max     67.100000    2.420000   81.000000    1.000000  \n"
     ]
    }
   ],
   "source": [
    "print(raw_data.describe())\n",
    "attributes = raw_data.iloc[:,:-1].values\n",
    "labels = raw_data.iloc[:,-1].values\n",
    "trainX, testX, trainY, testY  = train_test_split(attributes,labels,test_size=0.3,random_state=30,stratify=labels)"
   ]
  },
  {
   "cell_type": "markdown",
   "metadata": {},
   "source": [
    "#### Q 2.1"
   ]
  },
  {
   "cell_type": "code",
   "execution_count": 4,
   "metadata": {},
   "outputs": [],
   "source": [
    "classifier = MLPClassifier(hidden_layer_sizes=(20,), max_iter=150, random_state=30, solver='sgd')\n",
    "classifier.fit(trainX,trainY)\n",
    "predictions = classifier.predict(testX)"
   ]
  },
  {
   "cell_type": "code",
   "execution_count": 5,
   "metadata": {},
   "outputs": [
    {
     "name": "stdout",
     "output_type": "stream",
     "text": [
      "              precision    recall  f1-score   support\n",
      "\n",
      "           0       0.75      0.77      0.76       151\n",
      "           1       0.55      0.53      0.54        80\n",
      "\n",
      "    accuracy                           0.69       231\n",
      "   macro avg       0.65      0.65      0.65       231\n",
      "weighted avg       0.68      0.69      0.69       231\n",
      "\n"
     ]
    }
   ],
   "source": [
    "print(classification_report(testY,predictions))"
   ]
  },
  {
   "cell_type": "markdown",
   "metadata": {},
   "source": [
    "#### Q 2.2"
   ]
  },
  {
   "cell_type": "code",
   "execution_count": 6,
   "metadata": {},
   "outputs": [],
   "source": [
    "mlp = MLPClassifier(hidden_layer_sizes=(20,), max_iter=150,solver='sgd',random_state=3)\n",
    "\n",
    "N = trainX.shape[0]\n",
    "EPOCH = 25\n",
    "BATCH_SIZE = 64\n",
    "CLASSES = np.unique(trainY)\n",
    "\n",
    "scores_train = []\n",
    "scores_test = []\n",
    "mlploss = []"
   ]
  },
  {
   "cell_type": "code",
   "execution_count": 7,
   "metadata": {},
   "outputs": [],
   "source": [
    "epoch = 0\n",
    "while epoch < EPOCH:\n",
    "#     print('epoch: ', epoch)\n",
    "    # SHUFFLING\n",
    "    random_perm = np.random.permutation(trainX.shape[0])\n",
    "    \n",
    "    mini_batch_index = 0\n",
    "    while True:\n",
    "        # MINI-BATCH\n",
    "        indices = random_perm[mini_batch_index:mini_batch_index + BATCH_SIZE]        \n",
    "        mlp.partial_fit(trainX[indices], trainY[indices], classes=CLASSES)\n",
    "        mini_batch_index += BATCH_SIZE\n",
    "\n",
    "        if mini_batch_index >= N:\n",
    "            break\n",
    "\n",
    "    # SCORE TRAIN\n",
    "    scores_train.append(mlp.score(trainX, trainY))\n",
    "    \n",
    "     # SCORE TEST\n",
    "    scores_test.append(mlp.score(testX, testY))\n",
    "    \n",
    "    # compute loss\n",
    "    \n",
    "    mlploss.append(mlp.loss_)\n",
    "    epoch += 1\n"
   ]
  },
  {
   "cell_type": "code",
   "execution_count": 8,
   "metadata": {},
   "outputs": [
    {
     "data": {
      "image/png": "[encoded data removed]",
      "text/plain": [
       "<Figure size 432x288 with 3 Axes>"
      ]
     },
     "metadata": {
      "needs_background": "light"
     },
     "output_type": "display_data"
    }
   ],
   "source": [
    "\"\"\" Plot \"\"\"\n",
    "fig, ax = plt.subplots(3, sharex=True)\n",
    "ax[0].plot(scores_train)\n",
    "ax[0].set_title('Train Error')\n",
    "ax[1].plot(mlploss)\n",
    "ax[1].set_title('Train Loss')\n",
    "ax[2].plot(scores_test)\n",
    "ax[2].set_title('Test Error')\n",
    "fig.suptitle(\"Error vs Loss over epochs\", fontsize=14)\n",
    "plt.show()"
   ]
  },
  {
   "cell_type": "markdown",
   "metadata": {},
   "source": [
    "#  explain why the trend?"
   ]
  },
  {
   "cell_type": "markdown",
   "metadata": {},
   "source": [
    "#### Q 2.3"
   ]
  },
  {
   "cell_type": "code",
   "execution_count": 9,
   "metadata": {},
   "outputs": [
    {
     "name": "stderr",
     "output_type": "stream",
     "text": [
      "/Users/vatsal/opt/anaconda3/envs/DMML/lib/python3.7/site-packages/sklearn/neural_network/_multilayer_perceptron.py:571: ConvergenceWarning: Stochastic Optimizer: Maximum iterations (150) reached and the optimization hasn't converged yet.\n",
      "  % self.max_iter, ConvergenceWarning)\n",
      "/Users/vatsal/opt/anaconda3/envs/DMML/lib/python3.7/site-packages/sklearn/neural_network/_multilayer_perceptron.py:571: ConvergenceWarning: Stochastic Optimizer: Maximum iterations (150) reached and the optimization hasn't converged yet.\n",
      "  % self.max_iter, ConvergenceWarning)\n",
      "/Users/vatsal/opt/anaconda3/envs/DMML/lib/python3.7/site-packages/sklearn/neural_network/_multilayer_perceptron.py:571: ConvergenceWarning: Stochastic Optimizer: Maximum iterations (150) reached and the optimization hasn't converged yet.\n",
      "  % self.max_iter, ConvergenceWarning)\n",
      "/Users/vatsal/opt/anaconda3/envs/DMML/lib/python3.7/site-packages/sklearn/neural_network/_multilayer_perceptron.py:571: ConvergenceWarning: Stochastic Optimizer: Maximum iterations (150) reached and the optimization hasn't converged yet.\n",
      "  % self.max_iter, ConvergenceWarning)\n",
      "/Users/vatsal/opt/anaconda3/envs/DMML/lib/python3.7/site-packages/sklearn/neural_network/_multilayer_perceptron.py:571: ConvergenceWarning: Stochastic Optimizer: Maximum iterations (150) reached and the optimization hasn't converged yet.\n",
      "  % self.max_iter, ConvergenceWarning)\n",
      "/Users/vatsal/opt/anaconda3/envs/DMML/lib/python3.7/site-packages/sklearn/neural_network/_multilayer_perceptron.py:571: ConvergenceWarning: Stochastic Optimizer: Maximum iterations (150) reached and the optimization hasn't converged yet.\n",
      "  % self.max_iter, ConvergenceWarning)\n",
      "/Users/vatsal/opt/anaconda3/envs/DMML/lib/python3.7/site-packages/sklearn/neural_network/_multilayer_perceptron.py:571: ConvergenceWarning: Stochastic Optimizer: Maximum iterations (150) reached and the optimization hasn't converged yet.\n",
      "  % self.max_iter, ConvergenceWarning)\n"
     ]
    },
    {
     "name": "stdout",
     "output_type": "stream",
     "text": [
      "  Neurons                Accuracy\n",
      "  (19, 1)  0.65367965367965363832\n",
      "  (18, 2)  0.65367965367965363832\n",
      "  (17, 3)  0.65800865800865804278\n",
      "  (16, 4)  0.65367965367965363832\n",
      "  (15, 5)  0.64069264069264064698\n",
      "  (14, 6)  0.67965367965367962100\n",
      "  (13, 7)  0.67532467532467532756\n",
      "  (12, 8)  0.69264069264069261234\n",
      "  (11, 9)  0.70129870129870131024\n",
      " (10, 10)  0.69696969696969701680\n",
      "  (9, 11)  0.59307359307359308609\n",
      "  (8, 12)  0.71861471861471859501\n",
      "  (7, 13)  0.71428571428571430157\n",
      "  (6, 14)  0.67965367965367962100\n",
      "  (5, 15)  0.70562770562770560367\n",
      "  (4, 16)  0.67532467532467532756\n",
      "  (3, 17)  0.70129870129870131024\n",
      "  (2, 18)  0.65367965367965363832\n",
      "  (1, 19)  0.65367965367965363832\n"
     ]
    },
    {
     "name": "stderr",
     "output_type": "stream",
     "text": [
      "/Users/vatsal/opt/anaconda3/envs/DMML/lib/python3.7/site-packages/sklearn/neural_network/_multilayer_perceptron.py:571: ConvergenceWarning: Stochastic Optimizer: Maximum iterations (150) reached and the optimization hasn't converged yet.\n",
      "  % self.max_iter, ConvergenceWarning)\n"
     ]
    }
   ],
   "source": [
    "data = []\n",
    "for i in range(1,20):\n",
    "    mlp = MLPClassifier(hidden_layer_sizes=(20-i,i), max_iter=150, solver='sgd', random_state=30)\n",
    "    mlp.fit(trainX,trainY)\n",
    "    predictions = mlp.predict(testX)\n",
    "    score = accuracy_score(testY,predictions)\n",
    "    data.append({'Neurons':(20-i,i),'Accuracy':score})\n",
    "pd.set_option('display.precision',20)\n",
    "dataFrame = pd.DataFrame(data,columns=['Neurons','Accuracy'])\n",
    "print(dataFrame.to_string(index=False))"
   ]
  },
  {
   "cell_type": "markdown",
   "metadata": {},
   "source": [
    "#### Q 2.4 \n",
    "explain why there is variation in accuracy"
   ]
  },
  {
   "cell_type": "markdown",
   "metadata": {},
   "source": [
    "#### Q 2.5\n",
    "Four suitable criteria for other datasets\n",
    "<ol>\n",
    "    <li>Number of features or attributes should be around 6</li>\n",
    "    <li>Should be a binary classification problem</li>\n",
    "    <li>Size of dataset should be around 750 to 800 samples</li>\n",
    "    <li></li>\n",
    "</ol>"
   ]
  },
  {
   "cell_type": "code",
   "execution_count": null,
   "metadata": {},
   "outputs": [],
   "source": []
  }
 ],
 "metadata": {
  "kernelspec": {
   "display_name": "Python 3",
   "language": "python",
   "name": "python3"
  },
  "language_info": {
   "codemirror_mode": {
    "name": "ipython",
    "version": 3
   },
   "file_extension": ".py",
   "mimetype": "text/x-python",
   "name": "python",
   "nbconvert_exporter": "python",
   "pygments_lexer": "ipython3",
   "version": "3.7.6"
  }
 },
 "nbformat": 4,
 "nbformat_minor": 4
}
