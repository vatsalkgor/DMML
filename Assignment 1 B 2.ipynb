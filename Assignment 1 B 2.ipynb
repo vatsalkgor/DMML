{
 "cells": [
  {
   "cell_type": "code",
   "execution_count": 1,
   "metadata": {},
   "outputs": [],
   "source": [
    "import pandas as pd\n",
    "import numpy as np\n",
    "from sklearn.model_selection import train_test_split, cross_val_score\n",
    "from sklearn.neural_network import MLPClassifier\n",
    "from sklearn.metrics import plot_confusion_matrix\n",
    "from sklearn.metrics import precision_score, recall_score,auc,accuracy_score,classification_report,confusion_matrix"
   ]
  },
  {
   "cell_type": "code",
   "execution_count": 11,
   "metadata": {},
   "outputs": [],
   "source": [
    "raw_data = pd.read_csv('pima-indians-diabetes1.csv')\n",
    "raw_data.columns = ['pregnant number','pgc','dbp','sft','insulin','bmi','dpf','age','class']"
   ]
  },
  {
   "cell_type": "code",
   "execution_count": 17,
   "metadata": {},
   "outputs": [
    {
     "name": "stdout",
     "output_type": "stream",
     "text": [
      "       pregnant number         pgc         dbp         sft     insulin  \\\n",
      "count       767.000000  767.000000  767.000000  767.000000  767.000000   \n",
      "mean          3.842243  120.859192   69.101695   20.517601   79.903520   \n",
      "std           3.370877   31.978468   19.368155   15.954059  115.283105   \n",
      "min           0.000000    0.000000    0.000000    0.000000    0.000000   \n",
      "25%           1.000000   99.000000   62.000000    0.000000    0.000000   \n",
      "50%           3.000000  117.000000   72.000000   23.000000   32.000000   \n",
      "75%           6.000000  140.000000   80.000000   32.000000  127.500000   \n",
      "max          17.000000  199.000000  122.000000   99.000000  846.000000   \n",
      "\n",
      "              bmi         dpf         age       class  \n",
      "count  767.000000  767.000000  767.000000  767.000000  \n",
      "mean    31.990482    0.471674   33.219035    0.348110  \n",
      "std      7.889091    0.331497   11.752296    0.476682  \n",
      "min      0.000000    0.078000   21.000000    0.000000  \n",
      "25%     27.300000    0.243500   24.000000    0.000000  \n",
      "50%     32.000000    0.371000   29.000000    0.000000  \n",
      "75%     36.600000    0.625000   41.000000    1.000000  \n",
      "max     67.100000    2.420000   81.000000    1.000000  \n"
     ]
    }
   ],
   "source": [
    "print(raw_data.describe())\n",
    "attributes = raw_data.iloc[:,:-1].values\n",
    "labels = raw_data.iloc[:,-1].values\n",
    "trainX, testX, trainY, testY  = train_test_split(attributes,labels,test_size=0.3,random_state=30,stratify=labels)"
   ]
  },
  {
   "cell_type": "code",
   "execution_count": 57,
   "metadata": {},
   "outputs": [
    {
     "name": "stderr",
     "output_type": "stream",
     "text": [
      "/Users/vatsal/opt/anaconda3/envs/DMML/lib/python3.7/site-packages/sklearn/neural_network/_multilayer_perceptron.py:571: ConvergenceWarning: Stochastic Optimizer: Maximum iterations (150) reached and the optimization hasn't converged yet.\n",
      "  % self.max_iter, ConvergenceWarning)\n"
     ]
    }
   ],
   "source": [
    "classifier = MLPClassifier(hidden_layer_sizes=(20,), max_iter=100)\n",
    "classifier.fit(trainX,trainY)\n",
    "predictions = classifier.predict(testX)"
   ]
  },
  {
   "cell_type": "code",
   "execution_count": 59,
   "metadata": {},
   "outputs": [
    {
     "name": "stdout",
     "output_type": "stream",
     "text": [
      "              precision    recall  f1-score   support\n",
      "\n",
      "           0       0.75      0.82      0.78       151\n",
      "           1       0.59      0.49      0.53        80\n",
      "\n",
      "    accuracy                           0.71       231\n",
      "   macro avg       0.67      0.65      0.66       231\n",
      "weighted avg       0.70      0.71      0.70       231\n",
      "\n"
     ]
    }
   ],
   "source": [
    "print(classification_report(testY,predictions))"
   ]
  },
  {
   "cell_type": "code",
   "execution_count": null,
   "metadata": {},
   "outputs": [],
   "source": []
  }
 ],
 "metadata": {
  "kernelspec": {
   "display_name": "Python 3",
   "language": "python",
   "name": "python3"
  },
  "language_info": {
   "codemirror_mode": {
    "name": "ipython",
    "version": 3
   },
   "file_extension": ".py",
   "mimetype": "text/x-python",
   "name": "python",
   "nbconvert_exporter": "python",
   "pygments_lexer": "ipython3",
   "version": "3.7.6"
  }
 },
 "nbformat": 4,
 "nbformat_minor": 4
}
